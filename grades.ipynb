{
  "cells": [
    {
      "metadata": {
        "_uuid": "8f2839f25d086af736a60e9eeb907d3b93b6e0e5",
        "_cell_guid": "b1076dfc-b9ad-4769-8c92-a6c4dae69d19",
        "trusted": false,
        "collapsed": true
      },
      "cell_type": "code",
      "source": "import numpy as np\nimport pandas as pd\nimport os\nprint(os.listdir(\"../input\"))",
      "execution_count": null,
      "outputs": []
    },
    {
      "metadata": {
        "_uuid": "d629ff2d2480ee46fbb7e2d37f6b5fab8052498a",
        "collapsed": true,
        "_cell_guid": "79c7e3d0-c299-4dcb-8224-4455121ee9b0",
        "trusted": false
      },
      "cell_type": "code",
      "source": "data = pd.read_csv('../input/train.csv')",
      "execution_count": null,
      "outputs": []
    },
    {
      "metadata": {
        "_cell_guid": "96839eec-f973-4d5e-81f2-b0ea81e0fe03",
        "_uuid": "896b203579618f48aedbd125cc3b5b7c9c4d389a",
        "trusted": false,
        "collapsed": true
      },
      "cell_type": "code",
      "source": "grades = data[['project_grade_category','project_is_approved']]\ngrades_approved = grades[grades['project_is_approved'] == 1].drop('project_is_approved',axis=1)\ngrades_rejected = grades[grades['project_is_approved'] == 0].drop('project_is_approved',axis=1)",
      "execution_count": null,
      "outputs": []
    },
    {
      "metadata": {
        "_cell_guid": "2bbab2d6-db1d-46b4-998a-a1f8b865ee2e",
        "_uuid": "c243375848d49b5aaa3b7b6e1602c914bc1c69ba",
        "trusted": false,
        "collapsed": true
      },
      "cell_type": "code",
      "source": "grades_approved_count = grades_approved.groupby('project_grade_category').size()\ngrades_rejected_count = grades_rejected.groupby('project_grade_category').size()",
      "execution_count": null,
      "outputs": []
    },
    {
      "metadata": {
        "_cell_guid": "25a1815e-950b-4290-9fca-56cb7a5911bf",
        "_uuid": "76b7e355f833a2f6008bf8afdb54a25a28393c79",
        "trusted": false,
        "collapsed": true
      },
      "cell_type": "code",
      "source": "grades_approved_df = pd.DataFrame()\ngrades_approved_df['count'] = grades_approved_count",
      "execution_count": null,
      "outputs": []
    },
    {
      "metadata": {
        "_cell_guid": "9f0a7dfc-aeae-4b6c-8ead-81b5890a2175",
        "_uuid": "c151dd1ead3553e54850305037c725a03ab08dff",
        "trusted": false,
        "collapsed": true
      },
      "cell_type": "code",
      "source": "grades_rejected_df = pd.DataFrame()\ngrades_rejected_df['count'] = grades_rejected_count",
      "execution_count": null,
      "outputs": []
    },
    {
      "metadata": {
        "_cell_guid": "76aaf0ed-9e28-4a6f-bf34-a5dbb27be525",
        "_uuid": "0265c184d5addd6c64b173e494d0ba2067af40d6",
        "trusted": false,
        "collapsed": true
      },
      "cell_type": "code",
      "source": "grades_count = grades_approved_df.join(grades_rejected_df, how='inner',\n                                          lsuffix='_approved',\n                                          rsuffix='_rejected')",
      "execution_count": null,
      "outputs": []
    },
    {
      "metadata": {
        "_cell_guid": "46812474-c147-4675-9aa3-f1bd2e750347",
        "_uuid": "6861ed0fe0c7fb8ee76d792b7dc79d22d57147ae",
        "trusted": false,
        "collapsed": true
      },
      "cell_type": "code",
      "source": "grades_count['count_total'] = grades_count['count_approved'] + grades_count['count_rejected']\ngrades_count['probability_approved'] = grades_count['count_approved'] / grades_count['count_total']",
      "execution_count": null,
      "outputs": []
    },
    {
      "metadata": {
        "_cell_guid": "e98abbe8-0b7b-4084-b3be-39b9a9ef04bf",
        "_uuid": "4965db03ee3063984db8bbefa92030b635649972",
        "trusted": false,
        "collapsed": true
      },
      "cell_type": "code",
      "source": "grades_count['probability_approved']",
      "execution_count": null,
      "outputs": []
    },
    {
      "metadata": {
        "_cell_guid": "9c25db3f-73f3-45b0-bf13-f13cd3d3d0bb",
        "_uuid": "dbc85c42b04a083b301d5e1971cff1273319db22",
        "trusted": false,
        "collapsed": true
      },
      "cell_type": "code",
      "source": "approved = data[data['project_is_approved'] == 1]\nrejected = data[data['project_is_approved'] == 0]\nnum_approved = approved['id'].count()\nnum_rejected = rejected['id'].count()\nprint(num_approved/(num_approved+num_rejected))",
      "execution_count": null,
      "outputs": []
    },
    {
      "metadata": {
        "_cell_guid": "4b12fb8e-9c3c-4882-86c3-a70e20068da2",
        "_uuid": "af53f5a9bd9cece84159bd8a296799901fde38ae"
      },
      "cell_type": "markdown",
      "source": "So as an important note, the global approval rate seems to be around 85%. I'm not sure yet how to figure out what a good interval is, but for now I will consider anything within a couple percent of that to be too average to consider as a good predictor for approval/rejection."
    }
  ],
  "metadata": {
    "kernelspec": {
      "display_name": "Python 3",
      "language": "python",
      "name": "python3"
    },
    "language_info": {
      "name": "python",
      "mimetype": "text/x-python",
      "file_extension": ".py",
      "version": "3.6.4",
      "nbconvert_exporter": "python",
      "pygments_lexer": "ipython3",
      "codemirror_mode": {
        "name": "ipython",
        "version": 3
      }
    }
  },
  "nbformat": 4,
  "nbformat_minor": 1
}