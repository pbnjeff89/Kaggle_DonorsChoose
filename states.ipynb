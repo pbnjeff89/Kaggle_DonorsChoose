{
  "cells": [
    {
      "metadata": {
        "_uuid": "8f2839f25d086af736a60e9eeb907d3b93b6e0e5",
        "_cell_guid": "b1076dfc-b9ad-4769-8c92-a6c4dae69d19",
        "trusted": true
      },
      "cell_type": "code",
      "source": "import numpy as np\nimport pandas as pd \nimport os\nprint(os.listdir(\"../input\"))",
      "execution_count": 1,
      "outputs": [
        {
          "output_type": "stream",
          "text": "['resources.csv', 'train.csv', 'test.csv', 'sample_submission.csv']\n",
          "name": "stdout"
        }
      ]
    },
    {
      "metadata": {
        "collapsed": true,
        "_uuid": "d629ff2d2480ee46fbb7e2d37f6b5fab8052498a",
        "_cell_guid": "79c7e3d0-c299-4dcb-8224-4455121ee9b0",
        "trusted": true
      },
      "cell_type": "code",
      "source": "data = pd.read_csv('../input/train.csv')",
      "execution_count": 2,
      "outputs": []
    },
    {
      "metadata": {
        "_uuid": "5e13842a786e8332acbc5b817beaa9da044d97b6",
        "_cell_guid": "0842b262-73b5-4160-9bcd-a637522798c6",
        "trusted": true,
        "collapsed": true
      },
      "cell_type": "code",
      "source": "school_states = data[['school_state','project_is_approved']]",
      "execution_count": 3,
      "outputs": []
    },
    {
      "metadata": {
        "_uuid": "e6bd524848bfbd12ea33655cb5c1c58faa7842ce",
        "scrolled": true,
        "_cell_guid": "5b0f3ab2-e009-4240-8532-fc0d920e5eea",
        "trusted": true,
        "collapsed": true
      },
      "cell_type": "code",
      "source": "school_states_approved = school_states[school_states['project_is_approved'] == 1].drop('project_is_approved',axis=1)\nschool_states_rejected = school_states[school_states['project_is_approved'] == 0].drop('project_is_approved',axis=1)",
      "execution_count": 4,
      "outputs": []
    },
    {
      "metadata": {
        "_uuid": "413905c297c8f5615e9177ce770b250315ceb02b",
        "_cell_guid": "c03a4694-faa9-4631-8748-7b5901d91a23",
        "trusted": true,
        "collapsed": true
      },
      "cell_type": "code",
      "source": "school_states_approved_counts = school_states_approved.groupby('school_state').size()\nschool_states_rejected_counts = school_states_rejected.groupby('school_state').size()",
      "execution_count": 5,
      "outputs": []
    },
    {
      "metadata": {
        "collapsed": true,
        "_uuid": "c1ad657f83ef23d1cba7b40cfd0231b55199bb7e",
        "_cell_guid": "997ed7fb-c299-4490-bc8d-01d4137021ca",
        "trusted": true
      },
      "cell_type": "code",
      "source": "import matplotlib.pyplot as plt",
      "execution_count": 6,
      "outputs": []
    },
    {
      "metadata": {
        "_uuid": "c233f00cded38ef93642b95b9091f3dfa0356b4c",
        "_cell_guid": "6b48649b-ff37-470a-97c1-50efc53f03db",
        "trusted": true,
        "collapsed": true
      },
      "cell_type": "code",
      "source": "school_states_approved_counts = school_states_approved_counts.sort_values(ascending=False)\nschool_states_rejected_counts = school_states_rejected_counts.sort_values(ascending=False)",
      "execution_count": 7,
      "outputs": []
    },
    {
      "metadata": {
        "_uuid": "49e011b22c95c1a0bfe74de2e3175474dacf3297",
        "_cell_guid": "f0d88f0a-aa0c-4270-988b-9be58913e1cc"
      },
      "cell_type": "markdown",
      "source": "Here are the top 10 biggest winners and losers in obtaining approval. Note that these numbers aren't normalized to anything yet. It might be good to divide the approved counts by the total counts to see what the rate is per state. A procedure like that should make sense, as it seems like California is the biggest winner and loser in the absolute number of approvals."
    },
    {
      "metadata": {
        "_uuid": "f78fe2fc3e9d6bfa8d3d2b6c7549fb0cd4ddcec6",
        "_cell_guid": "9e856af6-917b-4772-a9ac-778425f8c548",
        "trusted": true
      },
      "cell_type": "code",
      "source": "school_states_approved_counts.head(10)",
      "execution_count": 8,
      "outputs": [
        {
          "output_type": "execute_result",
          "execution_count": 8,
          "data": {
            "text/plain": "school_state\nCA    22006\nNY    10377\nTX    10036\nFL     8541\nNC     7223\nIL     6260\nSC     5590\nGA     5535\nMI     4496\nPA     4342\ndtype: int64"
          },
          "metadata": {}
        }
      ]
    },
    {
      "metadata": {
        "_uuid": "b25fec08322a6bd073e97a42934309eb54745718",
        "_cell_guid": "ea7f3a60-e9b4-421b-8580-3a49772df223",
        "trusted": true
      },
      "cell_type": "code",
      "source": "school_states_rejected_counts.head(10)",
      "execution_count": 9,
      "outputs": [
        {
          "output_type": "execute_result",
          "execution_count": 9,
          "data": {
            "text/plain": "school_state\nCA    3689\nTX    2268\nFL    1818\nNY    1780\nNC    1240\nGA    1101\nIL    1072\nSC     873\nMI     828\nPA     751\ndtype: int64"
          },
          "metadata": {}
        }
      ]
    },
    {
      "metadata": {
        "collapsed": true,
        "_uuid": "672614a7677c41c41526906713faa7a3b2945826",
        "_cell_guid": "5e753d19-e673-4aeb-8a6e-7f1f6e461adc",
        "trusted": true
      },
      "cell_type": "code",
      "source": "",
      "execution_count": null,
      "outputs": []
    },
    {
      "metadata": {
        "_uuid": "6a22eb41ee9c9f88fa02f2c3c4580362491162ac",
        "_cell_guid": "0f78f8c5-ab84-4ad4-8651-2a6e1bc5de11",
        "trusted": true,
        "collapsed": true
      },
      "cell_type": "code",
      "source": "school_states_approved_counts = school_states_approved_counts.sort_index(ascending=False)\nschool_states_rejected_counts = school_states_rejected_counts.sort_index(ascending=False)",
      "execution_count": 10,
      "outputs": []
    },
    {
      "metadata": {
        "_uuid": "b92b203c241bea12f6490c0bc2afee4380e10532",
        "_cell_guid": "85706d83-35f3-49ed-ae63-8ad1e7cb92ad",
        "trusted": true,
        "collapsed": true
      },
      "cell_type": "code",
      "source": "school_states_approved_probability = school_states_approved_counts / (school_states_approved_counts + school_states_rejected_counts)",
      "execution_count": 11,
      "outputs": []
    },
    {
      "metadata": {
        "_uuid": "3be6dbfcc1f204e469b907cc39c745b4efdb5a17",
        "_cell_guid": "321f2611-57d1-41a7-a085-04dbcbb3fb52",
        "trusted": true,
        "collapsed": true
      },
      "cell_type": "code",
      "source": "school_states_approved_probability = school_states_approved_probability.sort_values(ascending=False)",
      "execution_count": 12,
      "outputs": []
    },
    {
      "metadata": {
        "_uuid": "5f95c3473f2f13f3b6ea9f52186b91113d89fde5",
        "_cell_guid": "1d959ced-b514-47e6-b76f-7ccdea946441",
        "trusted": true
      },
      "cell_type": "code",
      "source": "plt.bar(school_states_approved_probability.index, school_states_approved_probability);\nplt.xticks(rotation='vertical');\nplt.ylim((.8,.925))",
      "execution_count": 16,
      "outputs": [
        {
          "output_type": "execute_result",
          "execution_count": 16,
          "data": {
            "text/plain": "(0.8, 0.925)"
          },
          "metadata": {}
        },
        {
          "output_type": "display_data",
          "data": {
            "text/plain": "<matplotlib.figure.Figure at 0x7f96b533f898>",
            "image/png": "[encoded data removed]"
          },
          "metadata": {}
        }
      ]
    },
    {
      "metadata": {
        "_uuid": "b7360bc8f12fee3897be0398f3efbf29ec292cd9",
        "_cell_guid": "e75959d3-1ee4-4048-9943-e3f59bd9751d"
      },
      "cell_type": "markdown",
      "source": "Here are the top 10 winners for project approval. Could be improved by using error bars to determine how if the outliers are truly far from the average or if it could be explained via noise."
    },
    {
      "metadata": {
        "_uuid": "4a0e8471b030133c4d1f3a35fcffb24d9fe71dd5",
        "_cell_guid": "8240b064-1218-4b9e-aabf-d48ff523a687",
        "trusted": true
      },
      "cell_type": "code",
      "source": "school_states_approved_probability.head(10)",
      "execution_count": 19,
      "outputs": [
        {
          "output_type": "execute_result",
          "execution_count": 19,
          "data": {
            "text/plain": "school_state\nDE    0.891341\nWY    0.875706\nOH    0.871467\nCT    0.871294\nWA    0.868050\nWV    0.867700\nNH    0.867121\nND    0.866935\nSC    0.864923\nSD    0.862348\ndtype: float64"
          },
          "metadata": {}
        }
      ]
    },
    {
      "metadata": {
        "_uuid": "0d4733fa2cbb974265ee79207147a4a67bc345fc",
        "_cell_guid": "cf52601a-810a-4aa5-8d26-de535baaca47"
      },
      "cell_type": "markdown",
      "source": "Here are the least favorable states to be in for project approval."
    },
    {
      "metadata": {
        "_uuid": "616a133346fde56cf95b98ed9b1c71f1049b2401",
        "_cell_guid": "2047c733-df05-4219-b250-0c5e7f73b279",
        "trusted": true
      },
      "cell_type": "code",
      "source": "school_states_approved_probability.tail(10)",
      "execution_count": 20,
      "outputs": [
        {
          "output_type": "execute_result",
          "execution_count": 20,
          "data": {
            "text/plain": "school_state\nUT    0.835110\nOK    0.834422\nGA    0.834087\nLA    0.834009\nAR    0.832100\nMT    0.828125\nFL    0.824500\nNM    0.822052\nTX    0.815670\nDC    0.812639\ndtype: float64"
          },
          "metadata": {}
        }
      ]
    },
    {
      "metadata": {
        "_uuid": "9da70e32c1e604c807b1aa508bc63c210ffba792",
        "_cell_guid": "29b68c95-7216-4e65-bb1c-13ecb13c7bce"
      },
      "cell_type": "markdown",
      "source": "One could imagine making a feature that encodes whether or not you're in a top 10/bottom 10 state for project approval."
    }
  ],
  "metadata": {
    "kernelspec": {
      "display_name": "Python 3",
      "language": "python",
      "name": "python3"
    },
    "language_info": {
      "name": "python",
      "version": "3.6.4",
      "mimetype": "text/x-python",
      "codemirror_mode": {
        "name": "ipython",
        "version": 3
      },
      "pygments_lexer": "ipython3",
      "nbconvert_exporter": "python",
      "file_extension": ".py"
    }
  },
  "nbformat": 4,
  "nbformat_minor": 1
}