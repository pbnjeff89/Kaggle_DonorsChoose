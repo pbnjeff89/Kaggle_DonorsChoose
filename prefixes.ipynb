{
  "cells": [
    {
      "metadata": {
        "_uuid": "8f2839f25d086af736a60e9eeb907d3b93b6e0e5",
        "_cell_guid": "b1076dfc-b9ad-4769-8c92-a6c4dae69d19",
        "trusted": false,
        "collapsed": true
      },
      "cell_type": "code",
      "source": "import numpy as np\nimport pandas as pd\nimport os\nprint(os.listdir(\"../input\"))",
      "execution_count": null,
      "outputs": []
    },
    {
      "metadata": {
        "collapsed": true,
        "_uuid": "d629ff2d2480ee46fbb7e2d37f6b5fab8052498a",
        "_cell_guid": "79c7e3d0-c299-4dcb-8224-4455121ee9b0",
        "trusted": false
      },
      "cell_type": "code",
      "source": "data = pd.read_csv('../input/train.csv')",
      "execution_count": null,
      "outputs": []
    },
    {
      "metadata": {
        "collapsed": true,
        "_uuid": "1fac2dc8021281f08c2e9452237f587ff4fe7b8e",
        "_cell_guid": "475b11b4-bafa-4729-84cf-64ce02647860",
        "trusted": false
      },
      "cell_type": "code",
      "source": "data_approved = data[data['project_is_approved'] == 1]\ndata_rejected = data[data['project_is_approved'] == 0]",
      "execution_count": null,
      "outputs": []
    },
    {
      "metadata": {
        "collapsed": true,
        "_uuid": "eabb4684b839044aae4103c9faf4ee01310749bf",
        "_cell_guid": "8c58385f-9f51-4367-b112-5a26811685fd",
        "trusted": false
      },
      "cell_type": "code",
      "source": "data_approved = data_approved.drop('project_is_approved', axis=1)\ndata_rejected = data_rejected.drop('project_is_approved', axis=1)",
      "execution_count": null,
      "outputs": []
    },
    {
      "metadata": {
        "_uuid": "541e160ed1fe59a57565ecf30471874acf01b3fd",
        "_cell_guid": "743d75df-fe71-4c58-ad8f-6c7c1f680583",
        "trusted": false,
        "collapsed": true
      },
      "cell_type": "code",
      "source": "approved_counts = data_approved.groupby('teacher_prefix')['teacher_prefix'].count()\nprint(approved_counts)",
      "execution_count": null,
      "outputs": []
    },
    {
      "metadata": {
        "_uuid": "5e772faf7fd2f127cd83bda927f06d27aa98e8bf",
        "_cell_guid": "dc2b202a-3ab2-4b69-85a6-111d80ee23ee",
        "trusted": false,
        "collapsed": true
      },
      "cell_type": "code",
      "source": "rejected_counts = data_rejected.groupby('teacher_prefix')['teacher_prefix'].count()\nprint(rejected_counts)",
      "execution_count": null,
      "outputs": []
    },
    {
      "metadata": {
        "_uuid": "9858a3e610e359fe003f35059a6dfd8feb96edbc",
        "_cell_guid": "e7051915-81ab-452a-9ee2-796868aa160a",
        "trusted": false,
        "collapsed": true
      },
      "cell_type": "code",
      "source": "total_applicants = approved_counts.sum() + rejected_counts.sum()\nprint(total_applicants)",
      "execution_count": null,
      "outputs": []
    },
    {
      "metadata": {
        "_uuid": "31930dd2faa5074248159ec4c61f0d6e7d9309c6",
        "_cell_guid": "60c640af-244b-4089-a555-e05621794e1f",
        "trusted": false,
        "collapsed": true
      },
      "cell_type": "code",
      "source": "total_known_men = approved_counts['Mr.'] + rejected_counts['Mr.']\nprint(total_known_men)",
      "execution_count": null,
      "outputs": []
    },
    {
      "metadata": {
        "_uuid": "1d73036f16cee0d0c342c5d27763173e2db0ea2f",
        "_cell_guid": "9a79bb81-7e0e-4ecd-a142-ae7da20565e8",
        "trusted": false,
        "collapsed": true
      },
      "cell_type": "code",
      "source": "total_known_women = approved_counts['Ms.'] + approved_counts['Mrs.'] + \\\n                        rejected_counts['Ms.'] + rejected_counts['Mrs.']\nprint(total_known_women)",
      "execution_count": null,
      "outputs": []
    },
    {
      "metadata": {
        "_uuid": "4e3cd04b6e639b34fa74f9b49cf47901f6690dde",
        "_cell_guid": "47a5505a-a63d-44cb-b988-f81f3a739494",
        "trusted": false,
        "collapsed": true
      },
      "cell_type": "code",
      "source": "approval_rate_men = approved_counts['Mr.'] / total_known_men\nprint(approval_rate_men)",
      "execution_count": null,
      "outputs": []
    },
    {
      "metadata": {
        "_uuid": "b1a746de2d8ae0d7d1284a4bb5cc304791b2a588",
        "_cell_guid": "61094d5f-e577-42e6-9078-21c3444228f5",
        "trusted": false,
        "collapsed": true
      },
      "cell_type": "code",
      "source": "approval_rate_women = (approved_counts['Ms.'] + approved_counts['Mrs.']) / total_known_women\nprint(approval_rate_women)",
      "execution_count": null,
      "outputs": []
    },
    {
      "metadata": {
        "_uuid": "f2189272726f6982d3594968dca74da1015665f9",
        "_cell_guid": "6390c38b-c257-4e5e-b7f6-66da56e2cdea"
      },
      "cell_type": "markdown",
      "source": "From this set of data, there doesn't seem to be any advantage of one gender over another. Therefore, I would exclude gender as a predictor for data.\n\nA couple other things look promising: the prefix of Dr. and Teacher"
    },
    {
      "metadata": {
        "_uuid": "efaf9c22ec75aa36152270b2fbcd0d48e19a0212",
        "_cell_guid": "7670c639-046d-4948-86fd-28f8b881a049",
        "trusted": false,
        "collapsed": true
      },
      "cell_type": "code",
      "source": "total_num_dr = approved_counts['Dr.'] + rejected_counts['Dr.']\napproval_rate_dr = approved_counts['Dr.'] / total_num_dr\nprint(approval_rate_dr)",
      "execution_count": null,
      "outputs": []
    },
    {
      "metadata": {
        "_uuid": "ea948433231a49603692b5fdb3084bb99ac846a9",
        "_cell_guid": "97ef3c04-5b05-4f11-b582-03397ee48b71",
        "trusted": false,
        "collapsed": true
      },
      "cell_type": "code",
      "source": "total_known_teachers = approved_counts['Teacher'] + rejected_counts['Teacher']\napproved_rate_teacher = approved_counts['Teacher'] / total_known_teachers\nprint(approved_rate_teacher)",
      "execution_count": null,
      "outputs": []
    },
    {
      "metadata": {
        "_uuid": "daadb68f54dc4b7739ea115f1ccbf6f80b65058f",
        "_cell_guid": "984d97f9-20f4-4ac1-bbf2-a6d2f63f754d",
        "trusted": false,
        "collapsed": true
      },
      "cell_type": "code",
      "source": "total_num_non_dr = total_known_men + total_known_women + total_known_teachers\napproval_rate_non_dr = (approved_counts['Mr.'] + approved_counts['Mrs.'] + approved_counts['Ms.'] + \\\n                           approved_counts['Teacher']) / total_num_non_dr\nprint(approval_rate_non_dr)",
      "execution_count": null,
      "outputs": []
    },
    {
      "metadata": {
        "_uuid": "3ee6296bac40213e2729dfc5b28941e76344fef5",
        "_cell_guid": "2cdbe014-7acc-4f1b-ade4-7ed3c8c1fbaa"
      },
      "cell_type": "markdown",
      "source": "It's actually a bit funny because intuitively you would expect that someone who is a Doctor who be able to convince some panel that their project is worthy of being accepted. However, as it turns out, non-Dr.'s have their projects approved more often than Dr.'s. Caveat: the number of Doctors vs non-Doctors is significantly different.'"
    },
    {
      "metadata": {
        "_uuid": "ffe6c5176728507dadf12a02d64ac766fbd76623",
        "_cell_guid": "4ad9fda9-8a1a-461e-aaf0-ced69278d32a",
        "trusted": false,
        "collapsed": true
      },
      "cell_type": "code",
      "source": "print('Total number of doctors: ' + str(total_num_dr))\nprint('Total number of non-doctors: ' + str(total_num_non_dr))",
      "execution_count": null,
      "outputs": []
    },
    {
      "metadata": {
        "_uuid": "609e151765dc0e58879b09acea12d672c78025a3",
        "_cell_guid": "72633d45-90a1-4584-9c7c-3b42c6d48aed"
      },
      "cell_type": "markdown",
      "source": "So here, it's actually quite tenuous to say that there is a significant correlation between being a doctor and having your project approved, given that there just aren't that many samples from doctors compared to the non-doctors."
    }
  ],
  "metadata": {
    "kernelspec": {
      "display_name": "Python 3",
      "language": "python",
      "name": "python3"
    },
    "language_info": {
      "mimetype": "text/x-python",
      "name": "python",
      "pygments_lexer": "ipython3",
      "nbconvert_exporter": "python",
      "codemirror_mode": {
        "name": "ipython",
        "version": 3
      },
      "file_extension": ".py",
      "version": "3.6.4"
    }
  },
  "nbformat": 4,
  "nbformat_minor": 1
}