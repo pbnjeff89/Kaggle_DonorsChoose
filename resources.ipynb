{
  "cells": [
    {
      "metadata": {
        "_cell_guid": "b1076dfc-b9ad-4769-8c92-a6c4dae69d19",
        "_uuid": "8f2839f25d086af736a60e9eeb907d3b93b6e0e5",
        "trusted": false,
        "collapsed": true
      },
      "cell_type": "code",
      "source": "import numpy as np\nimport pandas as pd\n\nimport os\nprint(os.listdir(\"../input\"))",
      "execution_count": null,
      "outputs": []
    },
    {
      "metadata": {
        "_cell_guid": "79c7e3d0-c299-4dcb-8224-4455121ee9b0",
        "_uuid": "d629ff2d2480ee46fbb7e2d37f6b5fab8052498a",
        "collapsed": true,
        "trusted": false
      },
      "cell_type": "code",
      "source": "resources = pd.read_csv('../input/resources.csv')\ndata_train = pd.read_csv('../input/train.csv')\nsample_submission = pd.read_csv('../input/sample_submission.csv')",
      "execution_count": null,
      "outputs": []
    },
    {
      "metadata": {
        "_cell_guid": "63a72be3-1b99-4605-9529-e4b6cade45b6",
        "_uuid": "7426be80629ab9ad2f0189a025526ac371b7f766",
        "trusted": false,
        "collapsed": true
      },
      "cell_type": "code",
      "source": "data_train.head()",
      "execution_count": null,
      "outputs": []
    },
    {
      "metadata": {
        "_cell_guid": "40cefa2d-bba5-4970-9d62-dafc803d4108",
        "_uuid": "9ee84e3b631932dfdaefad9fd03cc2b3f522e3fa",
        "trusted": false,
        "collapsed": true
      },
      "cell_type": "code",
      "source": "# SELECT id, COUNT(description)\n# FROM data_train\n# INNER JOIN resources ON data_train.id == resources.id\n",
      "execution_count": null,
      "outputs": []
    },
    {
      "metadata": {
        "_cell_guid": "bff68be8-e2fd-41f6-a530-948ad3d2f602",
        "_uuid": "4abc0a648583b3a33c6909be4a8dfc723949dada"
      },
      "cell_type": "markdown",
      "source": "The resources data set is interesting for a number of reasons. I can think of three features that I can create here:\n1. The total cost of a project\n2. The number of items bought\n3. The type of items bought\n\nI intuit that, to first order, the cost of a project would dictate whether a project will go through or not. On the other hand, the quantity might not matter so much; depending on what is bought , the quantity could have a huge range of values. Let's take a look:"
    },
    {
      "metadata": {
        "_cell_guid": "efcf016d-ee8e-4b2d-8303-ad24e03d4420",
        "_uuid": "902b79a8e1dfb678d32b3ec4d7077ea47ae7c4d2",
        "trusted": false,
        "collapsed": true
      },
      "cell_type": "code",
      "source": "projects_summed = resources.groupby(['id'])[['quantity','price']].sum()",
      "execution_count": null,
      "outputs": []
    },
    {
      "metadata": {
        "_cell_guid": "9d38a7f3-0dee-41e9-8202-2aec1fff8253",
        "_uuid": "8fe546fc01b67fc9323f5e486f072bffad553192",
        "trusted": false,
        "collapsed": true
      },
      "cell_type": "code",
      "source": "import matplotlib.pyplot as plt",
      "execution_count": null,
      "outputs": []
    },
    {
      "metadata": {
        "_cell_guid": "09663f36-6309-487b-b2cc-1cd973e7f5c1",
        "_uuid": "4285551a541eea2e654928a8b6bc028af2d9cdde",
        "trusted": false,
        "collapsed": true
      },
      "cell_type": "code",
      "source": "plt.loglog(projects_summed['quantity'],projects_summed['price'],'o')\nplt.xlabel('Quantity of items')\nplt.ylabel('Total price of items')",
      "execution_count": null,
      "outputs": []
    },
    {
      "metadata": {
        "_cell_guid": "d06a10de-99ad-44b8-8ddb-17033fd8bbf1",
        "_uuid": "dd9a592ac3b14a10a1f937f9047a95f9c369c9f4"
      },
      "cell_type": "markdown",
      "source": "It seems like there is a pattern here, but I'd like to normalize the total prices by the number of items asked for to see if there is a different trend."
    },
    {
      "metadata": {
        "_cell_guid": "62b17580-0933-4385-a13b-256005dc728d",
        "_uuid": "6026173c8800e167823402e0ba95d78bc0043254",
        "trusted": false,
        "collapsed": true
      },
      "cell_type": "code",
      "source": "projects_summed['price_per_item'] = projects_summed.price / projects_summed.quantity",
      "execution_count": null,
      "outputs": []
    },
    {
      "metadata": {
        "_cell_guid": "4c19aaf4-1be6-426f-976d-cdb61821ae20",
        "_uuid": "077c2752ec33c2162991ef287283d5839d49ae9f"
      },
      "cell_type": "markdown",
      "source": "Again, I'll plot to see if there is some pattern to see"
    },
    {
      "metadata": {
        "_cell_guid": "80bb35b5-2724-4f19-894b-eb5952374749",
        "_uuid": "cdf1544d57503aa1e793222297a9a619efab6250",
        "trusted": false,
        "collapsed": true
      },
      "cell_type": "code",
      "source": "plt.loglog(projects_summed['quantity'],projects_summed['price_per_item'],'o')\nplt.xlabel('Quantity of items')\nplt.ylabel('Price per item')",
      "execution_count": null,
      "outputs": []
    },
    {
      "metadata": {
        "_cell_guid": "493091f8-cc8d-4929-ba95-7cd65b520ebc",
        "_uuid": "a61cdc2c42e26e2edc0356c28cfcd43c2e9e2621"
      },
      "cell_type": "markdown",
      "source": "Here I'm starting to see an interesting trend. The data seems to be a bit messy, but I think I could clear this up by binning everything and plotting the mean of each bin against the bin.\n\nTODO:\n* Bin along the quantity of items\n* Find the mean of each bin\n* Find the trend in the loglog plot to see if there is a power law"
    },
    {
      "metadata": {
        "_cell_guid": "f71c18af-e947-4f7d-84d6-18bb335b8b7a",
        "_uuid": "89bee5874cc06dcb09bd08a09103d780bf3c5897",
        "collapsed": true,
        "trusted": false
      },
      "cell_type": "code",
      "source": "",
      "execution_count": null,
      "outputs": []
    }
  ],
  "metadata": {
    "language_info": {
      "pygments_lexer": "ipython3",
      "codemirror_mode": {
        "version": 3,
        "name": "ipython"
      },
      "version": "3.6.4",
      "mimetype": "text/x-python",
      "file_extension": ".py",
      "nbconvert_exporter": "python",
      "name": "python"
    },
    "kernelspec": {
      "display_name": "Python 3",
      "language": "python",
      "name": "python3"
    }
  },
  "nbformat": 4,
  "nbformat_minor": 1
}