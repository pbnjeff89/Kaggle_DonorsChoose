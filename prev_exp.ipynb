{
  "cells": [
    {
      "metadata": {
        "_cell_guid": "b1076dfc-b9ad-4769-8c92-a6c4dae69d19",
        "_uuid": "8f2839f25d086af736a60e9eeb907d3b93b6e0e5",
        "trusted": false,
        "collapsed": true
      },
      "cell_type": "code",
      "source": "import numpy as np\nimport pandas as pd\nimport os\nprint(os.listdir(\"../input\"))",
      "execution_count": null,
      "outputs": []
    },
    {
      "metadata": {
        "_cell_guid": "79c7e3d0-c299-4dcb-8224-4455121ee9b0",
        "_uuid": "d629ff2d2480ee46fbb7e2d37f6b5fab8052498a",
        "trusted": false,
        "collapsed": true
      },
      "cell_type": "code",
      "source": "data = pd.read_csv('../input/train.csv')",
      "execution_count": null,
      "outputs": []
    },
    {
      "metadata": {
        "_cell_guid": "d9f76ab5-9bb6-4e90-9dc3-d2170ecbe6eb",
        "_uuid": "07e2b7ff7e9b3d4063eb7044dc61084a417313a4",
        "trusted": false,
        "collapsed": true
      },
      "cell_type": "code",
      "source": "previously_posted = data[['teacher_number_of_previously_posted_projects','project_is_approved']]",
      "execution_count": null,
      "outputs": []
    },
    {
      "metadata": {
        "_cell_guid": "cbe76b75-6bdc-4497-8918-831b0d5497cf",
        "_uuid": "5ffe190f8f776950b8d06945bbe4d757807503fc",
        "trusted": false,
        "collapsed": true
      },
      "cell_type": "code",
      "source": "import seaborn as sns\nimport matplotlib.pyplot as plt\n\nsns.stripplot(x='project_is_approved',\n              y='teacher_number_of_previously_posted_projects',\n              data=previously_posted,\n              jitter=True,\n              alpha=0.4)\nplt.xlabel('Project approved')\nplt.ylabel('Number of previous submissions')",
      "execution_count": null,
      "outputs": []
    },
    {
      "metadata": {
        "_cell_guid": "6bdf1172-869a-42a0-8246-1cdddaa76569",
        "_uuid": "d0fac377f76ae6aa4d6e6dd850887fd43e9be988"
      },
      "cell_type": "markdown",
      "source": "Here is a good way to visualize the distribution of how many times you would have to post a project to obtain approval. I think the way to understand this is to say that if you have more attempts at asking for approval, you tend to gain experience in knowing what you should say or write. However, there are some people who have made a lot of postings but still, for whatever reason, did not get this particular project approved (see the outliers in the project rejected column). The visualization is a good start and shows that if you have written about 200 or more project proposals, you actually have a pretty good chance of being approved, at least, judging by the density. Let's try to put some harder numbers to this."
    },
    {
      "metadata": {
        "_cell_guid": "2c4f3e9c-4841-44df-915b-aa845c371347",
        "_uuid": "a66983c14ba2d0f8c4e7d0adcad6de8ea45792a2",
        "trusted": false,
        "collapsed": true
      },
      "cell_type": "code",
      "source": "previously_posted_approved = previously_posted[previously_posted['project_is_approved'] == 1].drop('project_is_approved',axis=1)\npreviously_posted_rejected = previously_posted[previously_posted['project_is_approved'] == 0].drop('project_is_approved',axis=1)",
      "execution_count": null,
      "outputs": []
    },
    {
      "metadata": {
        "_cell_guid": "350323ab-ce56-4d7a-9ef4-f019d21dc752",
        "_uuid": "0d2a2bef42e1c7a6430272eb07c234c256b00ebb"
      },
      "cell_type": "markdown",
      "source": "Here I'd like to check the histogram"
    },
    {
      "metadata": {
        "_cell_guid": "04b82400-1b1f-4133-a9c6-4ee3107d8339",
        "_uuid": "c12c738e5ece0f34f30b66b10bd49478e1838fe0",
        "trusted": false,
        "collapsed": true
      },
      "cell_type": "code",
      "source": "(num_approved,bins_approved,patches_approved)= plt.hist(previously_posted_approved['teacher_number_of_previously_posted_projects'],\n                                                        bins=20, color='r',\n                                                        alpha=0.4, label='Approved',\n                                                       log=True)\n(num_rejected,bins_rejected,patches_rejected) = plt.hist(previously_posted_rejected['teacher_number_of_previously_posted_projects'],\n                                                        bins=20, color='b',\n                                                        alpha=0.4, label='Rejected',\n                                                        log=True)\n\nplt.xlabel('Number of previous attempts')\nplt.ylabel('Number of projects approved')\n\nplt.xticks(bins, rotation='vertical')\n\nplt.legend()\n\nplt.show()",
      "execution_count": null,
      "outputs": []
    },
    {
      "metadata": {
        "_cell_guid": "a9c59f5e-68b8-4ac3-a6af-e785a1255d9a",
        "_uuid": "efeed1949e15c940c8da400df26bd72a388aedec"
      },
      "cell_type": "markdown",
      "source": "I think it's pretty clear here that if you have more experience because of previous attempts, it's a lot more likely to get approval."
    },
    {
      "metadata": {
        "_cell_guid": "549dc69a-d2c0-40a7-abfc-73e6b2fcf64b",
        "_uuid": "0b063eef5b3a94c9c08ea759f83909d0e6ea1cb8",
        "trusted": false,
        "collapsed": true
      },
      "cell_type": "code",
      "source": "num_total = num_approved + num_rejected\nnum_total[num_total == 0] = 1\nprobability_approval = num_approved / num_total\nprobability_approval_binned = pd.DataFrame()\nbins_approved = bins_approved[1:]\nprobability_approval_binned['num_prev_attempt'] = bins_approved\nprobability_approval_binned['probability'] = probability_approval\n\nplt.plot(probability_approval_binned['num_prev_attempt'],\n        probability_approval_binned['probability'])\n\nplt.xlabel('Number of previous attempts')\nplt.ylabel('Probability approved')",
      "execution_count": null,
      "outputs": []
    },
    {
      "metadata": {
        "_cell_guid": "e01dc7bd-f7b1-461b-93b2-1956fac79bec",
        "_uuid": "f0a541d86cff8203528741dbfe8c3a4291e2aa60"
      },
      "cell_type": "markdown",
      "source": "With the exception of that dip around 250 previous attempts, it looks pretty decisive that as long as you have a lot of experience, you're a lot more likely to get approval. Note here that the plot is slightly misleading, because there is still only an approximately 15% rejection rate at the worst case. Objectively, there's still a pretty huge chance of being approved.\n\nHere, I would consider trying to model the approval rate with a linear function or maybe something like a log or square root function due to the diminishing returns around 300 attempts."
    }
  ],
  "metadata": {
    "language_info": {
      "pygments_lexer": "ipython3",
      "mimetype": "text/x-python",
      "file_extension": ".py",
      "codemirror_mode": {
        "version": 3,
        "name": "ipython"
      },
      "name": "python",
      "version": "3.6.4",
      "nbconvert_exporter": "python"
    },
    "kernelspec": {
      "display_name": "Python 3",
      "language": "python",
      "name": "python3"
    }
  },
  "nbformat": 4,
  "nbformat_minor": 1
}