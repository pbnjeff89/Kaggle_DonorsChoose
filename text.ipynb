{
  "cells": [
    {
      "metadata": {
        "_uuid": "8f2839f25d086af736a60e9eeb907d3b93b6e0e5",
        "_cell_guid": "b1076dfc-b9ad-4769-8c92-a6c4dae69d19",
        "trusted": true
      },
      "cell_type": "code",
      "source": "import numpy as np\nimport pandas as pd\nimport nltk\nimport matplotlib.pyplot as plt\nimport os\nfrom nltk.sentiment.vader import SentimentIntensityAnalyzer\nprint(os.listdir(\"../input\"))",
      "execution_count": 43,
      "outputs": [
        {
          "output_type": "stream",
          "text": "['resources.csv', 'train.csv', 'test.csv', 'sample_submission.csv']\n",
          "name": "stdout"
        },
        {
          "output_type": "stream",
          "text": "/opt/conda/lib/python3.6/site-packages/nltk/twitter/__init__.py:20: UserWarning: The twython library has not been installed. Some functionality from the twitter package will not be available.\n  warnings.warn(\"The twython library has not been installed. \"\n",
          "name": "stderr"
        }
      ]
    },
    {
      "metadata": {
        "_uuid": "d629ff2d2480ee46fbb7e2d37f6b5fab8052498a",
        "_cell_guid": "79c7e3d0-c299-4dcb-8224-4455121ee9b0",
        "trusted": true
      },
      "cell_type": "code",
      "source": "data = pd.read_csv('../input/train.csv')\ndata = data.drop(['id','teacher_id','teacher_prefix','school_state','project_submitted_datetime','project_grade_category','project_subject_categories',\n                 'project_subject_subcategories','teacher_number_of_previously_posted_projects'], axis=1)",
      "execution_count": 45,
      "outputs": []
    },
    {
      "metadata": {
        "trusted": true,
        "collapsed": true,
        "_uuid": "5786b152093ddcf66bfe713c0e4640824d24149e"
      },
      "cell_type": "code",
      "source": "def split_into_approved_rejected(df):\n    df_approved = df[df['project_is_approved'] == 1].drop('project_is_approved', axis=1)\n    df_rejected = df[df['project_is_approved'] == 0].drop('project_is_approved', axis=1)\n    return(df_approved,df_rejected)",
      "execution_count": 64,
      "outputs": []
    },
    {
      "metadata": {
        "_uuid": "c142fee43c91badf225783a680428cb7a94b3d2b"
      },
      "cell_type": "markdown",
      "source": "# Examining project titles"
    },
    {
      "metadata": {
        "trusted": true,
        "_uuid": "9378b25d078b88d9bc2256ced65fe89a7bda8565"
      },
      "cell_type": "code",
      "source": "titles = data.drop(['project_essay_1','project_essay_2','project_essay_3','project_essay_4','project_resource_summary'], axis=1)",
      "execution_count": 46,
      "outputs": []
    },
    {
      "metadata": {
        "_uuid": "297c2a1e7470d4bd01783b75cfa1cb52d5b125e2"
      },
      "cell_type": "markdown",
      "source": "Pre-processing to clean up the titles...there might be more to clean up, but it's hard to tell at the moment beyond the first 50 entries"
    },
    {
      "metadata": {
        "trusted": true,
        "_uuid": "d1f7103a0d8ab48a8025009ef9ad87a24caf19e5"
      },
      "cell_type": "code",
      "source": "pattern = r'\\\\([a-zA-Z]|\")'\ntitles['project_title'] = titles['project_title'].str.replace(pattern,'')\ntitles['project_title'] = titles['project_title'].apply(str.lower)",
      "execution_count": 47,
      "outputs": []
    },
    {
      "metadata": {
        "_uuid": "4aa828b0579752078e1798b7f28baa37e2d3d7a9"
      },
      "cell_type": "markdown",
      "source": "I have an idea of what the titles look like. It might be worth looking at how the title lengths and the title sentiments correlate with the approval rates. I should note that this is inspired from one of the top public kernels right now, though it only has a word cloud and frequency counts. It doesn't really compare the approved/rejected proportions.\n\nFrom experience, I would argue that interesting and succinct titles are more likely to catch the eye. I could list a few things down:\n1. Titles that are variants of common phrases (e.g. \"Keep Calm and Carry On\" and \"Keep Calm and Dance On\")\n2. Titles that have alliteration\n3. Titles that are shorter (an observation made by a top kernel)\n4. Titles that make you feel good\n\nI think items 2, 3, and 4 would be a lot easier to detect, and 1 would require a large list of various phrases...I'm not sure that I would have time to compile such a thing. In short, I'm looking for some rhetorical strategies"
    },
    {
      "metadata": {
        "trusted": true,
        "_uuid": "1906471fe2946e01ebfdb0a6f4666f90406b9d4f"
      },
      "cell_type": "code",
      "source": "titles['project_title_tokenized'] = titles['project_title'].apply(nltk.word_tokenize)",
      "execution_count": 48,
      "outputs": []
    },
    {
      "metadata": {
        "trusted": true,
        "_uuid": "bfaeac32edd6474044c339822d8253e0e80ea8ed"
      },
      "cell_type": "code",
      "source": "titles['title_length'] = titles['project_title_tokenized'].apply(len)",
      "execution_count": 49,
      "outputs": []
    },
    {
      "metadata": {
        "trusted": true,
        "_uuid": "cde59bfafc18ba7f9dd3bafab026c54f0a468993"
      },
      "cell_type": "code",
      "source": "titles['getting_excited'] = titles['project_title_tokenized'].apply(lambda x: '!' in x)",
      "execution_count": 50,
      "outputs": []
    },
    {
      "metadata": {
        "_uuid": "0e1ce95620dfb28a803527bdea9ac801c220bf47"
      },
      "cell_type": "markdown",
      "source": "I'm going to attempt to use the pre-trained NLTK analyzer Vader to analyze sentiment in the titles. I'll be honest and say that I'm not exactly sure how the sentiment analyzer outputs the compound/neg/neu/pos values, but what seems to happen is that (as expected) the negative and positive values tend to cancel each other out, and the neutral score seems to add or multiply one of the values (I can't tell exactly since there are hardly examples with negative compound scores)."
    },
    {
      "metadata": {
        "trusted": true,
        "_uuid": "f0520b960b6b29845da466ef36b05236f89ce546"
      },
      "cell_type": "code",
      "source": "sentiment_analyzer = SentimentIntensityAnalyzer()\n# note that the polarity scores works on non-tokenized sentences only\n\ndef get_compound_score(sentence):\n    sentiment_score = sentiment_analyzer.polarity_scores(sentence)\n    return(sentiment_score['compound'])\n\ntitles['sentiment_compound_score'] = titles['project_title'].apply(get_compound_score)",
      "execution_count": 56,
      "outputs": []
    },
    {
      "metadata": {
        "trusted": true,
        "_uuid": "19e864e3bcc437aca0d6c47befa6c30d66d7cd52"
      },
      "cell_type": "code",
      "source": "titles.head(20)",
      "execution_count": 59,
      "outputs": [
        {
          "output_type": "execute_result",
          "execution_count": 59,
          "data": {
            "text/plain": "                                        project_title  project_is_approved  \\\n0                            super sight word centers                    1   \n1                              keep calm and dance on                    0   \n2                               lets 3doodle to learn                    1   \n3   kid inspired equipment to increase activities ...                    0   \n4    we need clean water for our culinary arts class!                    1   \n5               need to reach our virtual  mentors!!!                    1   \n6                               active kindergartners                    1   \n7                fabulous firsties-wiggling to learn!                    1   \n8               wobble chairs help fidgety kids focus                    1   \n9                         snuggle up with a good book                    1   \n10                         writing, writing, writing!                    1   \n11                                  technology boost!                    1   \n12                      life lessons through literacy                    1   \n13  extra! extra! read all about it!!  we love to ...                    0   \n14                                   flexible seating                    1   \n15                                      a comfy seat!                    1   \n16                      ipads for bilingual education                    1   \n17          taking learning outside of the classroom!                    1   \n18                                watch readers grow!                    1   \n19                         success with communication                    0   \n\n                              project_title_tokenized  title_length  \\\n0                       [super, sight, word, centers]             4   \n1                        [keep, calm, and, dance, on]             5   \n2                          [lets, 3doodle, to, learn]             4   \n3   [kid, inspired, equipment, to, increase, activ...            10   \n4   [we, need, clean, water, for, our, culinary, a...            10   \n5   [need, to, reach, our, virtual, mentors, !, !, !]             9   \n6                            [active, kindergartners]             2   \n7         [fabulous, firsties-wiggling, to, learn, !]             5   \n8        [wobble, chairs, help, fidgety, kids, focus]             6   \n9                  [snuggle, up, with, a, good, book]             6   \n10               [writing, ,, writing, ,, writing, !]             6   \n11                             [technology, boost, !]             3   \n12                 [life, lessons, through, literacy]             4   \n13  [extra, !, extra, !, read, all, about, it, !, ...            16   \n14                                [flexible, seating]             2   \n15                                [a, comfy, seat, !]             4   \n16                 [ipads, for, bilingual, education]             4   \n17  [taking, learning, outside, of, the, classroom...             7   \n18                          [watch, readers, grow, !]             4   \n19                     [success, with, communication]             3   \n\n    getting_excited  sentiment_compound_score  \n0             False                    0.5994  \n1             False                    0.3182  \n2             False                    0.0000  \n3             False                    0.8957  \n4              True                    0.4574  \n5              True                    0.2444  \n6             False                    0.4019  \n7              True                    0.5707  \n8             False                    0.0772  \n9             False                    0.4404  \n10             True                    0.0000  \n11             True                    0.4574  \n12            False                    0.0000  \n13             True                    0.7482  \n14            False                    0.2263  \n15             True                    0.0000  \n16            False                    0.0000  \n17             True                    0.0000  \n18             True                    0.0000  \n19            False                    0.5719  ",
            "text/html": "<div>\n<style scoped>\n    .dataframe tbody tr th:only-of-type {\n        vertical-align: middle;\n    }\n\n    .dataframe tbody tr th {\n        vertical-align: top;\n    }\n\n    .dataframe thead th {\n        text-align: right;\n    }\n</style>\n<table border=\"1\" class=\"dataframe\">\n  <thead>\n    <tr style=\"text-align: right;\">\n      <th></th>\n      <th>project_title</th>\n      <th>project_is_approved</th>\n      <th>project_title_tokenized</th>\n      <th>title_length</th>\n      <th>getting_excited</th>\n      <th>sentiment_compound_score</th>\n    </tr>\n  </thead>\n  <tbody>\n    <tr>\n      <th>0</th>\n      <td>super sight word centers</td>\n      <td>1</td>\n      <td>[super, sight, word, centers]</td>\n      <td>4</td>\n      <td>False</td>\n      <td>0.5994</td>\n    </tr>\n    <tr>\n      <th>1</th>\n      <td>keep calm and dance on</td>\n      <td>0</td>\n      <td>[keep, calm, and, dance, on]</td>\n      <td>5</td>\n      <td>False</td>\n      <td>0.3182</td>\n    </tr>\n    <tr>\n      <th>2</th>\n      <td>lets 3doodle to learn</td>\n      <td>1</td>\n      <td>[lets, 3doodle, to, learn]</td>\n      <td>4</td>\n      <td>False</td>\n      <td>0.0000</td>\n    </tr>\n    <tr>\n      <th>3</th>\n      <td>kid inspired equipment to increase activities ...</td>\n      <td>0</td>\n      <td>[kid, inspired, equipment, to, increase, activ...</td>\n      <td>10</td>\n      <td>False</td>\n      <td>0.8957</td>\n    </tr>\n    <tr>\n      <th>4</th>\n      <td>we need clean water for our culinary arts class!</td>\n      <td>1</td>\n      <td>[we, need, clean, water, for, our, culinary, a...</td>\n      <td>10</td>\n      <td>True</td>\n      <td>0.4574</td>\n    </tr>\n    <tr>\n      <th>5</th>\n      <td>need to reach our virtual  mentors!!!</td>\n      <td>1</td>\n      <td>[need, to, reach, our, virtual, mentors, !, !, !]</td>\n      <td>9</td>\n      <td>True</td>\n      <td>0.2444</td>\n    </tr>\n    <tr>\n      <th>6</th>\n      <td>active kindergartners</td>\n      <td>1</td>\n      <td>[active, kindergartners]</td>\n      <td>2</td>\n      <td>False</td>\n      <td>0.4019</td>\n    </tr>\n    <tr>\n      <th>7</th>\n      <td>fabulous firsties-wiggling to learn!</td>\n      <td>1</td>\n      <td>[fabulous, firsties-wiggling, to, learn, !]</td>\n      <td>5</td>\n      <td>True</td>\n      <td>0.5707</td>\n    </tr>\n    <tr>\n      <th>8</th>\n      <td>wobble chairs help fidgety kids focus</td>\n      <td>1</td>\n      <td>[wobble, chairs, help, fidgety, kids, focus]</td>\n      <td>6</td>\n      <td>False</td>\n      <td>0.0772</td>\n    </tr>\n    <tr>\n      <th>9</th>\n      <td>snuggle up with a good book</td>\n      <td>1</td>\n      <td>[snuggle, up, with, a, good, book]</td>\n      <td>6</td>\n      <td>False</td>\n      <td>0.4404</td>\n    </tr>\n    <tr>\n      <th>10</th>\n      <td>writing, writing, writing!</td>\n      <td>1</td>\n      <td>[writing, ,, writing, ,, writing, !]</td>\n      <td>6</td>\n      <td>True</td>\n      <td>0.0000</td>\n    </tr>\n    <tr>\n      <th>11</th>\n      <td>technology boost!</td>\n      <td>1</td>\n      <td>[technology, boost, !]</td>\n      <td>3</td>\n      <td>True</td>\n      <td>0.4574</td>\n    </tr>\n    <tr>\n      <th>12</th>\n      <td>life lessons through literacy</td>\n      <td>1</td>\n      <td>[life, lessons, through, literacy]</td>\n      <td>4</td>\n      <td>False</td>\n      <td>0.0000</td>\n    </tr>\n    <tr>\n      <th>13</th>\n      <td>extra! extra! read all about it!!  we love to ...</td>\n      <td>0</td>\n      <td>[extra, !, extra, !, read, all, about, it, !, ...</td>\n      <td>16</td>\n      <td>True</td>\n      <td>0.7482</td>\n    </tr>\n    <tr>\n      <th>14</th>\n      <td>flexible seating</td>\n      <td>1</td>\n      <td>[flexible, seating]</td>\n      <td>2</td>\n      <td>False</td>\n      <td>0.2263</td>\n    </tr>\n    <tr>\n      <th>15</th>\n      <td>a comfy seat!</td>\n      <td>1</td>\n      <td>[a, comfy, seat, !]</td>\n      <td>4</td>\n      <td>True</td>\n      <td>0.0000</td>\n    </tr>\n    <tr>\n      <th>16</th>\n      <td>ipads for bilingual education</td>\n      <td>1</td>\n      <td>[ipads, for, bilingual, education]</td>\n      <td>4</td>\n      <td>False</td>\n      <td>0.0000</td>\n    </tr>\n    <tr>\n      <th>17</th>\n      <td>taking learning outside of the classroom!</td>\n      <td>1</td>\n      <td>[taking, learning, outside, of, the, classroom...</td>\n      <td>7</td>\n      <td>True</td>\n      <td>0.0000</td>\n    </tr>\n    <tr>\n      <th>18</th>\n      <td>watch readers grow!</td>\n      <td>1</td>\n      <td>[watch, readers, grow, !]</td>\n      <td>4</td>\n      <td>True</td>\n      <td>0.0000</td>\n    </tr>\n    <tr>\n      <th>19</th>\n      <td>success with communication</td>\n      <td>0</td>\n      <td>[success, with, communication]</td>\n      <td>3</td>\n      <td>False</td>\n      <td>0.5719</td>\n    </tr>\n  </tbody>\n</table>\n</div>"
          },
          "metadata": {}
        }
      ]
    },
    {
      "metadata": {
        "_uuid": "efacf8ccc16cee490155db2a3c64303546285f5e"
      },
      "cell_type": "markdown",
      "source": "And here you can see some of the results. Some of the compound scores I don't quite understand, e.g. row 15 with \"a comfy seat!\". I'd have thought that would be a bit more positive, since \"comfy\" has a good conotation. However, I think aside from mistakes like that the sentiment compound score does a pretty great job. Now I'm going to clean up the table a bit and examine some of these features one-by-one."
    },
    {
      "metadata": {
        "trusted": true,
        "collapsed": true,
        "_uuid": "22950a74b1b3b9ea10b6bb631b65a10a89d3a833"
      },
      "cell_type": "code",
      "source": "titles_features = titles.drop(['project_title','project_title_tokenized'], axis=1)",
      "execution_count": 60,
      "outputs": []
    },
    {
      "metadata": {
        "trusted": true,
        "_uuid": "3ec2387f5424bd966c629839416410c4da6621de"
      },
      "cell_type": "code",
      "source": "titles_features_approved, titles_features_rejected = split_into_approved_rejected(titles_features)",
      "execution_count": 65,
      "outputs": []
    },
    {
      "metadata": {
        "trusted": true,
        "_uuid": "029f3c29750809b4d8e78a1c906962d1c5ac9d51"
      },
      "cell_type": "code",
      "source": "title_length_counts_approved = titles_features_approved['title_length'].value_counts(normalize=True)\ntitle_length_counts_rejected = titles_features_rejected['title_length'].value_counts(normalize=True)",
      "execution_count": 84,
      "outputs": []
    },
    {
      "metadata": {
        "trusted": true,
        "_uuid": "458af3a10a9a0134071c2c35d116852335d88f38"
      },
      "cell_type": "code",
      "source": "title_length_counts_approved = title_length_counts_approved.reset_index().rename(columns={'index':'length','title_length':'frequency'})\ntitle_length_counts_rejected = title_length_counts_rejected.reset_index().rename(columns={'index':'length','title_length':'frequency'})",
      "execution_count": 86,
      "outputs": []
    },
    {
      "metadata": {
        "trusted": true,
        "collapsed": true,
        "_uuid": "65bece6501ba71046c29f65c341082cc6807e617"
      },
      "cell_type": "code",
      "source": "title_length_counts_approved = title_length_counts_approved.sort_values('length')\ntitle_length_counts_rejected = title_length_counts_rejected.sort_values('length')",
      "execution_count": 91,
      "outputs": []
    },
    {
      "metadata": {
        "trusted": true,
        "_uuid": "92de10a4e79d274ad14bacb0b499a68903add7f9"
      },
      "cell_type": "code",
      "source": "plt.plot(title_length_counts_approved['length'], title_length_counts_approved['frequency'], 'ob',\n         title_length_counts_rejected['length'], title_length_counts_rejected['frequency'], 'xr')",
      "execution_count": 100,
      "outputs": [
        {
          "output_type": "execute_result",
          "execution_count": 100,
          "data": {
            "text/plain": "[<matplotlib.lines.Line2D at 0x7fd2cab764e0>,\n <matplotlib.lines.Line2D at 0x7fd2cab765f8>]"
          },
          "metadata": {}
        },
        {
          "output_type": "display_data",
          "data": {
            "text/plain": "<matplotlib.figure.Figure at 0x7fd2cac38588>",
            "image/png": "[encoded data removed]"
          },
          "metadata": {}
        }
      ]
    },
    {
      "metadata": {
        "_uuid": "9ef626b94a4093ad9df31fab655d59913d7244f7"
      },
      "cell_type": "markdown",
      "source": "It turns out that the distributions look about the same. I wouldn't use the title lengths as a predictor.\n\nThe next thing to look at is how excited the title seems to be. I didn't realize this at first, but the sentiment analyzer doesn't seem to take into account the exclamation marks, even in a neutral score. Taking into account the exclamation marks would be something to look into as its own entity."
    },
    {
      "metadata": {
        "trusted": true,
        "collapsed": true,
        "_uuid": "2295aa9c64b41d3587c02e932a56346365072d46"
      },
      "cell_type": "code",
      "source": "",
      "execution_count": null,
      "outputs": []
    },
    {
      "metadata": {
        "_uuid": "d1d610a078c2b493b89c690f2783667ba7be979e"
      },
      "cell_type": "markdown",
      "source": "# Examining project essays"
    },
    {
      "metadata": {
        "_uuid": "c1c19eac9eec0a6310bf61ace71cf91402648b7a"
      },
      "cell_type": "markdown",
      "source": "# Examining resource summaries"
    },
    {
      "metadata": {
        "trusted": true,
        "collapsed": true,
        "_uuid": "5afef7897e1892aee2862a69ebe89c0ff1de2a9c"
      },
      "cell_type": "code",
      "source": "",
      "execution_count": null,
      "outputs": []
    }
  ],
  "metadata": {
    "language_info": {
      "name": "python",
      "version": "3.6.4",
      "mimetype": "text/x-python",
      "codemirror_mode": {
        "name": "ipython",
        "version": 3
      },
      "pygments_lexer": "ipython3",
      "nbconvert_exporter": "python",
      "file_extension": ".py"
    },
    "kernelspec": {
      "display_name": "Python 3",
      "language": "python",
      "name": "python3"
    }
  },
  "nbformat": 4,
  "nbformat_minor": 1
}