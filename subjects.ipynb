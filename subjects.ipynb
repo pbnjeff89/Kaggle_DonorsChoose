{
  "cells": [
    {
      "metadata": {
        "_uuid": "8f2839f25d086af736a60e9eeb907d3b93b6e0e5",
        "_cell_guid": "b1076dfc-b9ad-4769-8c92-a6c4dae69d19",
        "trusted": false,
        "collapsed": true
      },
      "cell_type": "code",
      "source": "import numpy as np\nimport pandas as pd\nimport os\nprint(os.listdir(\"../input\"))",
      "execution_count": null,
      "outputs": []
    },
    {
      "metadata": {
        "_uuid": "d629ff2d2480ee46fbb7e2d37f6b5fab8052498a",
        "_cell_guid": "79c7e3d0-c299-4dcb-8224-4455121ee9b0",
        "collapsed": true,
        "trusted": false
      },
      "cell_type": "code",
      "source": "data = pd.read_csv('../input/train.csv')\nsubjects_categories = data[['project_subject_categories','project_is_approved']]",
      "execution_count": null,
      "outputs": []
    },
    {
      "metadata": {
        "_cell_guid": "467a686b-fe38-4b2d-a4d0-dbb6474bd297",
        "_uuid": "4495b890fef5de3303158019310a585bd6517c2b"
      },
      "cell_type": "markdown",
      "source": "Extracting all of the possible subjects"
    },
    {
      "metadata": {
        "_cell_guid": "e377e75f-99fc-46c2-9cea-2de3099b6dda",
        "_uuid": "213917cbc08970ca469a72cd78f211d24a614ce3",
        "trusted": false,
        "collapsed": true
      },
      "cell_type": "code",
      "source": "subjects = subjects_categories.project_subject_categories.unique()\nsubjects = [x.split(',') for x in subjects]\n\n# flattens out a list, lol\nsubjects = [subject for subject_list in subjects for subject in subject_list]\n\nsubjects = [x.strip() for x in subjects]\n\nset_of_subjects = set(subjects)",
      "execution_count": null,
      "outputs": []
    },
    {
      "metadata": {
        "_cell_guid": "94b40b7a-ee10-4444-aa93-156438c452b8",
        "_uuid": "661923f04cf73c21faf7427b96cbe25e003eff9f",
        "trusted": false,
        "collapsed": true
      },
      "cell_type": "code",
      "source": "subjects_categories.head()",
      "execution_count": null,
      "outputs": []
    },
    {
      "metadata": {
        "_cell_guid": "6b8ab960-0d58-4761-b094-eab5d7b2b518",
        "_uuid": "520d24d0cf964546e07c7a0b64152a3ae76dd7c7"
      },
      "cell_type": "markdown",
      "source": "Something you might want to know is if having multiple subjects matter."
    },
    {
      "metadata": {
        "_cell_guid": "64076f94-8b8b-4245-a77c-fc5fc9207145",
        "_uuid": "4b390b9e74286ef40f5cb3a1d02b36dbe0fa9dc7",
        "trusted": false,
        "collapsed": true
      },
      "cell_type": "code",
      "source": "subjects_categories['Multiple_Subjects'] = subjects_categories['project_subject_categories'].str.contains(', ')",
      "execution_count": null,
      "outputs": []
    },
    {
      "metadata": {
        "_cell_guid": "5e9ee35d-a1ad-4fcf-8995-a742f0cc6dab",
        "_uuid": "796c2e079312cff935aac058cf912d70456b3e8b",
        "trusted": false,
        "collapsed": true
      },
      "cell_type": "code",
      "source": "multiple_subjects = subjects_categories.drop('project_subject_categories',axis=1)",
      "execution_count": null,
      "outputs": []
    },
    {
      "metadata": {
        "_cell_guid": "93d7040d-6c90-482b-a9de-3d042aed7405",
        "_uuid": "b4c078563a9c2a89fc229ac7f215c1d97baec1c0",
        "collapsed": true,
        "trusted": false
      },
      "cell_type": "code",
      "source": "approved_multiple = multiple_subjects[multiple_subjects['project_is_approved'] == 1]\nrejected_multiple = multiple_subjects[multiple_subjects['project_is_approved'] == 0]",
      "execution_count": null,
      "outputs": []
    },
    {
      "metadata": {
        "_cell_guid": "a2e04314-05de-43fb-8ba9-a444671e74e3",
        "_uuid": "5601d6c87ee42695e399491f76819ec9a068d5c6",
        "trusted": false,
        "collapsed": true
      },
      "cell_type": "code",
      "source": "counts_multiple_approved = approved_multiple.groupby('Multiple_Subjects').size()\nprint(counts_multiple_approved)",
      "execution_count": null,
      "outputs": []
    },
    {
      "metadata": {
        "_cell_guid": "04576a68-188f-416b-a278-b24b17452f91",
        "_uuid": "4ac09d49eac76b5202e6b541ddfc0dd225f90392",
        "trusted": false,
        "collapsed": true
      },
      "cell_type": "code",
      "source": "counts_multiple_rejected = rejected_multiple.groupby('Multiple_Subjects').size()\nprint(counts_multiple_rejected)",
      "execution_count": null,
      "outputs": []
    },
    {
      "metadata": {
        "_cell_guid": "0fa42285-d04c-4c0e-8c3c-d6314c05255d",
        "_uuid": "b80e42072909161c64fd51c3d102fb69c00c3b4d"
      },
      "cell_type": "markdown",
      "source": "For approved and rejected projects, what fraction had multiple subjects?"
    },
    {
      "metadata": {
        "_cell_guid": "5cfa2b7c-e146-4ee5-8b13-e1058f8ff5ce",
        "_uuid": "4aa5f476b8f072b8da962f4d3c028612a1c2be57",
        "trusted": false,
        "collapsed": true
      },
      "cell_type": "code",
      "source": "print('Fraction with multiple subjects for approved projects: ' + str(counts_multiple_approved[True] / (counts_multiple_approved[True] + counts_multiple_approved[False])))",
      "execution_count": null,
      "outputs": []
    },
    {
      "metadata": {
        "_cell_guid": "2d2ab4ec-f1e1-46b9-9e37-ca819e9517f0",
        "_uuid": "249b8eeed31bae1ad8dc13c174e901b2c3a431bf",
        "trusted": false,
        "collapsed": true
      },
      "cell_type": "code",
      "source": "print('Fraction with multiple subjects for rejected projects: ' + str(counts_multiple_rejected[True] / (counts_multiple_rejected[True] + counts_multiple_rejected[False])))",
      "execution_count": null,
      "outputs": []
    },
    {
      "metadata": {
        "_cell_guid": "8423bda1-f296-4c7f-acdc-6a563d886173",
        "_uuid": "f084f6e5d2a1149b34bf6cfd67b2c7d2ecfaca83"
      },
      "cell_type": "markdown",
      "source": "Given some sampling of the population, it seems like you have an equal chance of being either approved or denied when listing multiple subjects.\n\nHow about the type of subject that you list?"
    },
    {
      "metadata": {
        "_cell_guid": "e278fa70-d143-4b36-909d-2d606ff619d1",
        "_uuid": "f453aacb55c0ca0da2781f3a260c3c6bc5090363",
        "trusted": false,
        "collapsed": true
      },
      "cell_type": "code",
      "source": "for subject in set_of_subjects:\n    subjects_categories[subject] = subjects_categories['project_subject_categories'].str.extract('(' + subject+ ')',expand=True)\n    subjects_categories[subject] = subjects_categories[subject].replace(to_replace=subject,value=True)\n    subjects_categories[subject] = subjects_categories[subject].replace(to_replace=np.nan,value=False)",
      "execution_count": null,
      "outputs": []
    },
    {
      "metadata": {
        "_cell_guid": "5017c23a-d0c4-4e92-b2e9-8ee999cb9b7e",
        "_uuid": "693bf4282b783d9b0422b65be03610c6abc495f6",
        "trusted": false,
        "collapsed": true
      },
      "cell_type": "code",
      "source": "subjects_categories.head()",
      "execution_count": null,
      "outputs": []
    },
    {
      "metadata": {
        "_cell_guid": "ac64ba7c-a161-4ab7-a4a2-2f58bdd2d438",
        "_uuid": "a2a82f442136fc7582816b6946322c2275950322",
        "collapsed": true,
        "trusted": false
      },
      "cell_type": "code",
      "source": "subject_categories = subjects_categories.drop('project_subject_categories',axis=1)",
      "execution_count": null,
      "outputs": []
    },
    {
      "metadata": {
        "_cell_guid": "dd2f60a2-f9d5-464f-ad38-a9f2eddf8587",
        "_uuid": "a6c7e19511bd3f218c34789f37860ec724423c5c"
      },
      "cell_type": "markdown",
      "source": "And now we can figure out which subjects have the most approval."
    },
    {
      "metadata": {
        "_cell_guid": "e90e3d55-b109-4407-8850-11191ea3c457",
        "_uuid": "6c9ea72f7cc4e125b39d9e67755d3b8dc0e2ccdf",
        "trusted": false,
        "collapsed": true
      },
      "cell_type": "code",
      "source": "approved_subject_categories = subject_categories[subject_categories['project_is_approved'] == 1].drop('project_is_approved',axis=1)\nrejected_subject_categories = subject_categories[subject_categories['project_is_approved'] == 0].drop('project_is_approved',axis=1)",
      "execution_count": null,
      "outputs": []
    },
    {
      "metadata": {
        "_cell_guid": "548095b8-d0be-48f2-b7e0-476b66f97837",
        "_uuid": "a80d4dbbd5ee73349bec9389cef0484d08b37d25",
        "trusted": false,
        "collapsed": true
      },
      "cell_type": "code",
      "source": "approved_counts_subject = approved_subject_categories[approved_subject_categories == True].count()",
      "execution_count": null,
      "outputs": []
    },
    {
      "metadata": {
        "_cell_guid": "d27d4a5e-154a-4734-afa3-c5c82ad09446",
        "_uuid": "c3721987bc9bc10ccdb04e72f8df2f78aa55c8f0",
        "trusted": false,
        "collapsed": true
      },
      "cell_type": "code",
      "source": "rejected_counts_subject = rejected_subject_categories[rejected_subject_categories == True].count()",
      "execution_count": null,
      "outputs": []
    },
    {
      "metadata": {
        "_cell_guid": "0a7386f7-c69c-4c91-9be0-60bf279259a7",
        "_uuid": "dccc3b8003ee0f240113e864d919d8a3eacd33b2",
        "trusted": false,
        "collapsed": true
      },
      "cell_type": "code",
      "source": "counts_subject = pd.DataFrame()\ncounts_subject['approved'] = approved_counts_subject\ncounts_subject['rejected'] = rejected_counts_subject",
      "execution_count": null,
      "outputs": []
    },
    {
      "metadata": {
        "_cell_guid": "6ef2b6e2-55a7-4f00-b790-8a89f26b1f59",
        "_uuid": "2eec5d5c8a1c923e5c6bd4eba61c9350acaf3821",
        "trusted": false,
        "collapsed": true
      },
      "cell_type": "code",
      "source": "counts_subject['total'] = counts_subject['approved'] + counts_subject['rejected']\ncounts_subject['fraction_approved'] = counts_subject['approved'] / counts_subject['total']",
      "execution_count": null,
      "outputs": []
    },
    {
      "metadata": {
        "_cell_guid": "844ae44e-3913-474b-872e-129bf6cf5f38",
        "_uuid": "99e0f1fccc838bce2f08d3dc044ac1f1b64e7eb9",
        "trusted": false,
        "collapsed": true
      },
      "cell_type": "code",
      "source": "counts_subject.sort_values('fraction_approved')",
      "execution_count": null,
      "outputs": []
    },
    {
      "metadata": {
        "_cell_guid": "fa7e25a3-4ef6-4860-8dc5-efc6f47be165",
        "_uuid": "d9152aff7ee0b4b521d628ec47c1b9f3c0b4933e"
      },
      "cell_type": "markdown",
      "source": "Here it seems like Literacy & Language, Warmth, and Care & Hunger are the subjects that are particularly strong predictors of approval. I should be careful here, though. Warm and Care & Hunger might actually be the same subject, but it was not clear just from reading. Secondly, there does not seem to be as many applicants for Warmth (and) Care & Hunger. One one hand, it's questionable if that's a fair comparison to other subjects, all of which have around 10000 proposals and above. On the other, this might be an interesting and real effect, where maybe it could be explained by some fascination with this particularly rare subject."
    },
    {
      "metadata": {
        "_cell_guid": "ef297042-ffd6-4ef1-a5d0-1c68f0cbc0ce",
        "_uuid": "ed1fe032518b020f62fe6b72f64bba06910266ad",
        "collapsed": true,
        "trusted": false
      },
      "cell_type": "code",
      "source": "subject_subcategories = data[['project_subject_subcategories','project_is_approved']]",
      "execution_count": null,
      "outputs": []
    },
    {
      "metadata": {
        "_cell_guid": "ef62b21c-d7bb-4363-8ed3-46406fc92830",
        "_uuid": "09cdceba351f0d62c828dfd4a48d846cdb4eb7a3",
        "trusted": false,
        "collapsed": true
      },
      "cell_type": "code",
      "source": "subject_subcategories.columns",
      "execution_count": null,
      "outputs": []
    },
    {
      "metadata": {
        "_cell_guid": "c1ec3fde-f161-4810-a13c-2bcac9c8b479",
        "_uuid": "d0add0a30d60b8c0c10c59e4b9366fde18692dbb",
        "trusted": false,
        "collapsed": true
      },
      "cell_type": "code",
      "source": "subject_subcategories['project_subject_subcategories'].unique()",
      "execution_count": null,
      "outputs": []
    },
    {
      "metadata": {
        "_cell_guid": "6acc55a4-1df5-4073-b427-90b5ad829d10",
        "_uuid": "7a9cd82b1ddf22e10f9e4a88aa0fcc3be1d98706"
      },
      "cell_type": "markdown",
      "source": "Right now it seems a bit overwhelming so I'll skip looking at this for now.\n\nFlattening out the sets like in the major categories"
    },
    {
      "metadata": {
        "_cell_guid": "b6e2f838-0661-4ba5-8780-54a2a97d2c46",
        "_uuid": "1150a59b6ece4135e2cf1b06f72af8bdabc906f7",
        "trusted": false,
        "collapsed": true
      },
      "cell_type": "code",
      "source": "subcategories = subjects_subcategories.project_subject_subcategories.unique()\nsubcategories = [x.split(',') for x in subcategories]",
      "execution_count": null,
      "outputs": []
    },
    {
      "metadata": {
        "_cell_guid": "2dfe7760-7e60-4f27-97e2-1b0483840ce3",
        "_uuid": "784c10df36e263e1d08226a3344b40c9843bede7",
        "trusted": false,
        "collapsed": true
      },
      "cell_type": "code",
      "source": "# flattens out a list, lol\nsubcategories = [subject for subject_list in subcategories for subject in subcategories]\n\nsubcategories = [x.strip() for x in subcategories]\n\nsubcategories",
      "execution_count": null,
      "outputs": []
    },
    {
      "metadata": {
        "_cell_guid": "b297e401-039d-448e-b0db-7844eba09bfb",
        "_uuid": "f85c3b74f802f5af3416e3afe775f912b342b377",
        "trusted": false,
        "collapsed": true
      },
      "cell_type": "code",
      "source": "set_of_subcategories",
      "execution_count": null,
      "outputs": []
    },
    {
      "metadata": {
        "_cell_guid": "891ae797-f588-4514-8045-3c531579fedd",
        "_uuid": "692c5c4eae4aa8d560a09be66a7590c7ad4631eb",
        "collapsed": true,
        "trusted": false
      },
      "cell_type": "code",
      "source": "",
      "execution_count": null,
      "outputs": []
    }
  ],
  "metadata": {
    "language_info": {
      "version": "3.6.4",
      "nbconvert_exporter": "python",
      "codemirror_mode": {
        "version": 3,
        "name": "ipython"
      },
      "mimetype": "text/x-python",
      "pygments_lexer": "ipython3",
      "file_extension": ".py",
      "name": "python"
    },
    "kernelspec": {
      "display_name": "Python 3",
      "language": "python",
      "name": "python3"
    }
  },
  "nbformat": 4,
  "nbformat_minor": 1
}